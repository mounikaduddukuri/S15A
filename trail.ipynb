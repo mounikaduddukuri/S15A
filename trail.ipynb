{
  "nbformat": 4,
  "nbformat_minor": 0,
  "metadata": {
    "colab": {
      "name": "trail.ipynb",
      "provenance": [],
      "collapsed_sections": [],
      "authorship_tag": "ABX9TyMbVaqfvyWWpiudAU8xa90Q",
      "include_colab_link": true
    },
    "kernelspec": {
      "name": "python3",
      "display_name": "Python 3"
    }
  },
  "cells": [
    {
      "cell_type": "markdown",
      "metadata": {
        "id": "view-in-github",
        "colab_type": "text"
      },
      "source": [
        "<a href=\"https://colab.research.google.com/github/mounikaduddukuri/S15A/blob/master/trail.ipynb\" target=\"_parent\"><img src=\"https://colab.research.google.com/assets/colab-badge.svg\" alt=\"Open In Colab\"/></a>"
      ]
    },
    {
      "cell_type": "code",
      "metadata": {
        "id": "EsvP9zQkDXrK",
        "colab_type": "code",
        "outputId": "8924dcc3-6aaa-4349-f12b-8573641eb8fe",
        "colab": {
          "base_uri": "https://localhost:8080/",
          "height": 125
        }
      },
      "source": [
        "from google.colab import drive\n",
        "drive.mount('/content/gdrive')"
      ],
      "execution_count": 0,
      "outputs": [
        {
          "output_type": "stream",
          "text": [
            "Go to this URL in a browser: https://accounts.google.com/o/oauth2/auth?client_id=947318989803-6bn6qk8qdgf4n4g3pfee6491hc0brc4i.apps.googleusercontent.com&redirect_uri=urn%3aietf%3awg%3aoauth%3a2.0%3aoob&response_type=code&scope=email%20https%3a%2f%2fwww.googleapis.com%2fauth%2fdocs.test%20https%3a%2f%2fwww.googleapis.com%2fauth%2fdrive%20https%3a%2f%2fwww.googleapis.com%2fauth%2fdrive.photos.readonly%20https%3a%2f%2fwww.googleapis.com%2fauth%2fpeopleapi.readonly\n",
            "\n",
            "Enter your authorization code:\n",
            "··········\n",
            "Mounted at /content/gdrive\n"
          ],
          "name": "stdout"
        }
      ]
    },
    {
      "cell_type": "code",
      "metadata": {
        "id": "N8sXkQC3DqRI",
        "colab_type": "code",
        "colab": {}
      },
      "source": [
        "\n",
        "from PIL import Image\n",
        "\n",
        "import copy\n",
        "import PIL\n",
        "from random import seed\n",
        "from random import random\n",
        "import numpy as np\n",
        "import cv2\n",
        "from tqdm.notebook import tqdm"
      ],
      "execution_count": 0,
      "outputs": []
    },
    {
      "cell_type": "code",
      "metadata": {
        "id": "969hR7FiKBDl",
        "colab_type": "code",
        "outputId": "bf614f76-aeb1-4b1d-fe77-441c0616d762",
        "colab": {
          "base_uri": "https://localhost:8080/",
          "height": 87
        }
      },
      "source": [
        "pip install zipfile36"
      ],
      "execution_count": 0,
      "outputs": [
        {
          "output_type": "stream",
          "text": [
            "Collecting zipfile36\n",
            "  Downloading https://files.pythonhosted.org/packages/fd/8a/3b7da0b0bd87d1ef05b74207827c72d348b56a0d6d83242582be18a81e02/zipfile36-0.1.3-py3-none-any.whl\n",
            "Installing collected packages: zipfile36\n",
            "Successfully installed zipfile36-0.1.3\n"
          ],
          "name": "stdout"
        }
      ]
    },
    {
      "cell_type": "code",
      "metadata": {
        "id": "dwqrfNZHQOXg",
        "colab_type": "code",
        "colab": {}
      },
      "source": [
        "import zipfile36 as zipfile\n",
        "import os"
      ],
      "execution_count": 0,
      "outputs": []
    },
    {
      "cell_type": "code",
      "metadata": {
        "id": "pwy5AzFPDOgM",
        "colab_type": "code",
        "outputId": "4dcb8fa3-14bb-4401-c83c-57cd132e6b8c",
        "colab": {
          "base_uri": "https://localhost:8080/",
          "height": 1000,
          "referenced_widgets": [
            "66557e68f0f44568810aed7d9702318f",
            "f53e58920afb4f2dace4e9abcebefb80",
            "1eb18e2802e343a8850629dd719cb569",
            "cea2e0e5424c49c582946955cc3546a4",
            "15dd53540aa2446d9572e8472926e3a1",
            "a3097e15c18c472aba8b4d54e8b87159",
            "2f831898b7034fe680787c74e7a002b2",
            "bf3e4d167cd142bf89414c5dc45ca58f",
            "c6333ddd2bb7464bbf8366a59b58888e",
            "db5ece2af11b4c3c93e7ffb7b8759c94",
            "cb797041a07941fa8ab6984d11854887",
            "762d304473b4447e938e487f8e11651c",
            "5c54a43fe9384f0e98bf3885bc353d7c",
            "022cc93a4c834b109a83564882deed8f",
            "79e50d8d19f947aa9ccf5025dcb2da88",
            "7d7e2f7dc9a049bab06c12dda1743b2e",
            "d0adb5b5e8b747be9c64469c3555b5b1",
            "91869e38513c404d83cf3000dc565566",
            "8d92a86600194e7b933c4e9d8d50fe46",
            "f267ec94c5da4f5f9616ef8b1ffc1e80",
            "357c6f265e0a4a1b81b6486afc11888e",
            "0ccc97da3b2a479f8fc21109e22f5b8a",
            "5420f7d8d8cf4f17a9e28c30387b139a",
            "6b8d6f08f52849519d418e5340703311",
            "074db80f4a364167bdedd498cb7fc554",
            "0cc8bece7b4f478593025254f8bb3b3e",
            "7343cb348a974af9b122f95876ab6a54",
            "3d6657d5c928479db4d3ae6ebcc39530",
            "82242f1b7ec3433cb7267a47d58a83b3",
            "c3c39e97d2d5419ea279f9254e865213",
            "aa1814e2b61c4308bd2192cc1b86b30e",
            "ed6c5619da74457698b7949fcfe7b436",
            "4e09b402467041ef954f3f0e45da3230",
            "132cff91b0724f80a73f67e47bbe629b",
            "5ca5934ea6334b67904660c650b37ffb",
            "086deffed749499e92d838d99de912d6",
            "1603a97314214b6bb620b1c30172cc56",
            "0c40a9a05a0c49f3915e64b059a71ee9",
            "733ad0ef56ba4f6390420e7bd681b78a",
            "57e8d2b70dc04bffa0f139632d7496f5",
            "481c95d14309496484846f9ef6cfc208",
            "18492e5754e64c76b5274cdf22ee87fb",
            "cac5556def4e48579634e282401c3893",
            "d8e1e7f3ac144087884ee5f1b84ce45a",
            "825a815a86a84f8dbcf8e47500f4cdad",
            "a1eddf94f6094678a4888f16fee82fe7",
            "596a4f1d6458495d974f665ec251a594",
            "84d0256b5de44133a67852cfc38be67d",
            "f18b435b775d4a63b361923f71985422",
            "00cef144eb6841b595e5ae86d8b895ac",
            "99195db8196e423e8b70dec30ec5fa6b",
            "feaa1f859e9e4ceb84dce363df0da238",
            "8bacc02d8c244770af6054b57bca42c4",
            "2697be74491142d38cdd3dcfe42d1213",
            "3caa49472576448ba2557ccd794fddda",
            "1f076767ebe4490a96d16b3f0f9dcabf",
            "8cd8cc8e0b024d5c9c553e0dfdda5bf7",
            "a840e7966fe442dbbd748fb1c1840fbd",
            "b845a361dd704e4b98bb92b3d0b37e38",
            "1456c7148fcd4c4e99cab9572db61442",
            "e317c4ef8eef47929eb8d37805d4662d",
            "61d45fee4d184345b45dd3b0415b2eab",
            "0b1db2ded6ec4d4b9930ac98a60444cb",
            "2f1c71426ad948bb9f606dd5d2aa2359",
            "26fe59f758e342edaffacd49c6e21d0b",
            "1f2dc0cf0d5944c5b772ec4d78170457",
            "e58ec8c670dc4411b0952011c941e558",
            "8cf8e47f9ff24f78bcf920377afb0280",
            "72c079b2fbc0456d866d6b8cee1643df",
            "d9fb844846f840e1bb842fbec37175fb",
            "7e0b716d1dea4876831dd0dd29b75f72",
            "1657a3a7a354456385e59f2a2515e46c",
            "ec302c230ec04c78b9f6aefb0fee57d1",
            "a2792170aee44436a969cf6a42e9df84",
            "fc79997c1d314ff6b2898fbbd0b9c9df",
            "a61474915f5042b0ac6241ffe80bf13c",
            "eb08172c028f42468f41deb400b78328",
            "452212986a04459a9229f0d3ebd4c80d",
            "e1a2cc3a9ee147a28c60695531a24584",
            "aab4dfa84ca742d0a8786f6b238aad00",
            "262304c132d24fa8b52ca356b5b2b6ce",
            "3adcfe2f94ea4b7686aff45a11489078",
            "5db78b7e4d914a88a9b855128de425d7",
            "8b1f8c3dc93448bba0b99d12428ce637",
            "40c63e005d5a42698b7cc8533e26fae0",
            "aef3381398714093af34009674e7ca0a",
            "0de38098315643b9b5b14257c352e0ac",
            "9c4e3f2c74b447eeab9b39a10bd74718",
            "9a9c37edc1284b5c9fd2ae769e6ead2e",
            "d40d64a8326548c7a0cfd0cf075df4e5",
            "c603a2b083914810b1a35385df3a3735",
            "c07fce56d12a4aba9db1804525571cb6",
            "d3496cab3fd3465f8c2ca8d495e32246",
            "702de2b724384cbcaca98b1ff9c7aaba",
            "9efa6f956d894627a10144ebef287196",
            "9c1f1eaca5ac4ec499896d0349019fce",
            "759f697f8be94dffbdf73ba01b2ef7db",
            "ab44112bd68e4029822723876880b5cf",
            "bfc97a64a125406ebe6c56b2b7ea6659",
            "b554dc255b134d1db992327f04149913",
            "271e2537331c4cf687d0962336bd76ad",
            "25deeb87997041c8a4b4ea5cce87d855",
            "8145b4f5e7c64c229930fb768b3ca144",
            "c465578f637a459281b25c3af03ab482",
            "81baa631555a4cc3bc9de93d4dc39826",
            "567b88eaaed44fb2a14012abf8297833",
            "730d979f776941c68d9e8eb6c9955383",
            "c12d80ec1487402992efc2828d93d28b",
            "068ff2fe6aa54a37819037b7cd1aab5c",
            "efd7df3763964b3aa0a9d5a8028436de",
            "09ddd9c8e17647fcaffcc6896c570a33",
            "9f1c1926704a41599e39619847397f3e",
            "6c17acd59de8460690a71da9c442f667",
            "d71f515a48774dc39a464ce80d0afa10",
            "f648bfc72d724710985a52611a8d65e4",
            "56d255fdaeee4f78bb4f01435dc2e8a9",
            "cea4a88422534c1fb4bdadcb0117da59",
            "fafca8ebae524455ac9b1978bda1f4bd",
            "05d390f040314ede83c2c079c5407282",
            "90370b82ba554825867cf89a823afbcf",
            "0a3ea5a236614862a9192137f9ff09a3",
            "378ab7f809254fe8b7ca7f65ce80f4ad",
            "462cfd61e4fe4af78b85843bd90087bd",
            "05d29456060f44bfa238667e3ef43b5f",
            "bcaf5661e25246c39f5c9a5edbe1af3c",
            "35e00760894e46de86493b171a965bce",
            "ceba580aa4c0407eac1efdb7bfa9c9b0",
            "a5e93729fb54493a9483101b147e3970",
            "68b336dfbdd541e09f9d6c4fae4ee62b",
            "5326f4fc9fa941f2a8170f3e90528afc",
            "4f988c0795da4fe380567e79eabdc2bf",
            "5a072f31e3424885bcd702c34815df83",
            "8644e257b54c4e0c86165d375aa4d068",
            "da930e89966b455bb15d539d9aea1b7a",
            "7b9d5ba21e4c4ed9ba6e0642c901e557",
            "418b3458347244b98e59b91e562a742e",
            "31547477f06946caa021bf5556d85fa5",
            "3e44800ff1a64e218acd1b4ad8780f72",
            "c3a0d69e9009451cb7c7a9fc9f48e778",
            "7bfbca01edec4b9084ac25b6882c8f8b",
            "0a7701929cc84eaa923964786e889cee",
            "519ebeb63a684cf5bdc2748a3a883f02",
            "97d00c3520134bc98ca06320f01630a5",
            "f769b64c0caa4ee8b9b7a4fd8d805d6d",
            "42ab0ff5beee4c44b010639efdebdf35",
            "82a8b0db10fc43da83ffcd99fd9ca9b8",
            "78f0d53e1b124b24abc4dbf506d07172",
            "98c33ae7df4a4ab39f6de849c279b146",
            "1f0de8df65e346d3aadbd8ed5c677221",
            "10b2b550801647f3ae4764607edb569e",
            "634b0e3de77f4dc5998f7179af296db3",
            "7a23a6420d0746a7a692efc2b9b9ac3b",
            "3d2d805cd25742318223aa7bcf080243",
            "bcdc016dd936451687657fa551faac78",
            "8015210e08f04b349a03c79240a92f49",
            "ec2ef2cc26284892a968743277cd0626",
            "003a508da41145bab1fbbe49883c9cdf",
            "bff1e37d1bd1432db2c2b904e14f8d1d",
            "8021358d57ca47e89d5df535228407f0",
            "0b03eaac4eef4b8d9938824ee3dbfc8c",
            "84897162e1df40de96a4aaa35869184c",
            "302dc28607c94e71b6b6c5c8984867d1",
            "0a4ad69b59cc4fb49b8c3bdd830e52de",
            "08c27b83e4b34a43a55839178c46e8c9",
            "faca1b2ee3ca4c6090359fae7028168b",
            "26e925ecd3cd4bb58a397a7de298d370",
            "29d211342dc24c89bcb0e15ef7836e89",
            "ad6bba6d188841948dd4153ed9dfc205",
            "73b659b615584b1fb4a4351aefcf3fea",
            "460dcb8b26f449e9b79f5d9a033b5359",
            "f0a72bd887e24757a037a1f954c84ff1",
            "6d31444fad1a4ca289d958842211faf8",
            "3d3c9a04d61f42e0ae0bcb6584109f92",
            "e025cb62ef44434da8f1f6ec384bf533",
            "4b700bc137d74366a5be76df7aa282f3",
            "55a0354413664d5abeb1f05b4ce008ac",
            "a55d13c8d7ff4a44951328bd8c358354",
            "c764ddcd5da143238141019f56c8e9f7",
            "c54b78918ce64458b8a7200a352683c5",
            "0ec4bf08b36f44de9f7571f69f84db09",
            "016cb604dd0941cebf6ad054284e7c5c",
            "505230f9027d4ef9802bcc0b1421fa03",
            "a4e5604b5ad847f88dae8164801affac",
            "1fe167e6730f4887bff2469b938d3c03",
            "d7cb723baff542079c04fd7f9a481186",
            "0fee2b5c8a1748bca3dfd336ab45c8fc",
            "0ac869580a3c4a79ae1490767d2f1b8c",
            "465b7b9a8e824176a41707c39342eccd",
            "8efe3ca8071848b1a141dd833c750b71",
            "b8e6ebacfc6d4e329d0dba4e72451532",
            "8d07d4c61d484d2e880f24f359e4a783",
            "61cfa0df96564ae59e834c0c60af24ab",
            "2185a6be50d54a199ecda16df4646667",
            "4761c51e9d7d420bb34f08eafa0841df",
            "b458db6081b2457499cb37a80d3eb803",
            "2c13d5b3f2124dfebe9e0cf391f98cef",
            "e02f252190a443dcbf1ae4b55a729a83",
            "64ade4488a4d4ec99b388043f8ad86ba",
            "26498fe54de24e9289a55fcbc071ab83",
            "f19a009301484a0e8426057a2c60d590",
            "5bdbca0ae1d148e0843704acf2d99696",
            "2fd83290dfd14405a8f2deb0b34269a7",
            "8ecd8e9a7be94fe8ad163d56406660e4",
            "9987c469261848c49c3f1f751d41acdc",
            "77eebc48b3f740318283822b1f998f7e",
            "0c993c4b814f4c6394959be8dd50a03e",
            "ef1cf56fafb44aeba66845d7c946cd46",
            "b383c4d5dc1c403288f765ffc030eb8a",
            "a2f88681dcfa4faf8ea34ad5e9be84be",
            "b0df9a40c8b74925aa6bfacba896d515",
            "3ea71fd8b4e44a058dd27f5b44ed1fc3",
            "d94e5d94e8c34178b9f22e74fecbbb12",
            "59015d4b9114444cb84b3d43dcbf9eb2",
            "b1deaee2ec4f4f55bdd0c618562b9560",
            "adc47274675340aa9b0a6e3924685cba",
            "e9279ad6f56945a39e28a85f67c24ef4",
            "3b449fd960e24b35805f27e1c0827478",
            "e2b3390efc8f4bb8987965a7ff3666fa",
            "fa559d96627949b3bf5dba6847148135",
            "d3999cb7cf33470eb53a23aa413c58f9",
            "8dfc3916c50745c984284a34ec82aef8",
            "74abe444580049de9e259f1461b39a44",
            "573b0600f7c24b5d97ce4a5fd4b9c329",
            "31617e8f72254ef09166fbff74197df1",
            "14c05d38abe641caaaa48c6d119db628",
            "228fae76991d419c96b071fecf3a85a7",
            "f2f822c6094a4e988bd091d778a4ccb9",
            "02c371cb73b7487f9cd4673951a2f355",
            "54d723421ed34615a0bef05ab5e99288",
            "74e49088c7a84fd292eab32034be47cb",
            "08bfb2d1996b4f09a19c89952b345b6e",
            "ee46386f1a1d4a06aa91e230ce54879a",
            "1a0a35dd8e5e425eb812309c6720659d",
            "9f06a82af5164fd3a3d91303ef072112",
            "de67bdb4a6bb4c9a83a5e7910e5e80af",
            "9b3d348de75847b2ac2b8c1f20672d96",
            "9f9fe7721c63465b9ea30b72df86efc5",
            "15886bdcf7c4458f9725cd196cbba52e",
            "f899a01f3457460598c2b8b2a836933b",
            "ca474e5e52354c4697937c5a2ab6b5ca",
            "a8a38e4b9d4f4664a19d176771a5aff3",
            "bad5f6772afd4c56b76fec3c1e307c0d",
            "7b261fcdc2164cfe90e065aeb7350d5b",
            "2d4b075e4bd6473dbfe2534f0c8e57b3",
            "7266bd9135c04b6c82ca15bb99ae6549",
            "9c0863025bc643f2967e9f079d2cedbc",
            "2eb7c3ae7e6943b1a14ff1ebdfda1d2d",
            "b0666f2872854bab9c478a20903ada39",
            "04015875d2b14ce8a92df7c62d91ff8e",
            "6593bae68b9d4c6fa573a5258db07802",
            "d38171cc234c434484c143731b579b67",
            "856e7fd2c94f4a92954d4c5a7bdbe56e",
            "c393e5811dc540c89e3f4e68c5540632",
            "bcbe91509a984585989fb82e75a658e2",
            "83001017214f409aa440d3ccfafc9e83",
            "d4735cfdeac943c3b94efd16c70a8091",
            "a2f165d0c9044d79b19720f9d84ffd9d",
            "dc4f9ec6c6a2467e8b068e5ce9733367",
            "1bed708e34dc426ba9cbd13f7e57dc05",
            "57c6b35dccff4b019bfaa35fe2ef7ceb",
            "29cc9ef647524a028a16105f46d22dd9",
            "9049e442101f4f33b68578509b6da1e9",
            "90aac3d27d704690b468527da87c1685",
            "e8fd1ad93a384253b943b46675ae2416",
            "a9201b1a12734d8dbe3152c1db19cfa7",
            "719d2c8c06974022a3f13ddd7cf1e843",
            "89fc0094e6d54fd18768b0a8aed3471c",
            "348536fffe174d36abe432cf3aa6ed37",
            "8db360c5df4a47bab2a6f3c3e88e3b0e",
            "c2157068627d46eca9961549437cca01",
            "4afbaa21cdf840acaba97b52785cadf1",
            "e4fd3f470e35485dbdd8f61affe4680a",
            "881456c39f5a427b954f9484b9b4630d",
            "bde260cd3c6a4b3b904ad84d074470f1",
            "c99bca5d252c4994a595376ae90db429",
            "e70ff7114cd74d709cbdf7a6747c9461",
            "6a924d1311f5468783eb3688461e886c",
            "7482217407b9425184b8cb285575194b",
            "57758ded9f5a443a95a459b7abaf3308",
            "aa622f2a9e42479594aad6c36e0b4af3",
            "afc85ad57fa9406999b619575a77a833",
            "36c8c679245f46a39b42f877e6da9748",
            "62820bf87ad742f094ad42800196dd25",
            "6c64eb5bd49749cc8f8b486aef62d68f",
            "2a9601a6d90b46949f58d1e7506fada3",
            "85b9b6af48b64f0c9375d64bfb43cb71",
            "d2a7d9f5db23406296d36cace29f2ecb",
            "938be626b08747a588a0651e6d424d82",
            "cdc3bdeec2e74726881f0f80a181cf1c",
            "b18ca5bd522242be884906264f668afe",
            "d3069fe825b4438392776a947b38f7f3",
            "36cc21bf74bc4e21ad868ec639d51d99",
            "35c6c24010984a03976d8d9d5c80ecf1",
            "c6cff9473ff64c239d40535ee3468d30",
            "17773e211c8840bfbf741f33e00d6edd",
            "155beb6f6c194afd90a79bf4a349fa14",
            "d4863a93d3c24e7389ad4700de276c96",
            "8b2a99d7174c4ba4a1a4318d0df87723",
            "efd2589f654e4406bbe313a0a6043f21",
            "b9ade58b0d8c4af4bb2a233fecd198f6",
            "dfb5077357644ab8b9390b10e92179aa",
            "2f05b26531e84549adc63966c6468fab",
            "2581cd4c907d46eeb250e7c389a0904a",
            "05315533bf954078becae3222e820d57",
            "1acbe1c275f34cc09c15ced67d9bd216",
            "ff0dbbb5a35b491bae2af46483558059",
            "68011ea1c5ae4e7ab88b3b40f9366036",
            "3b40c7b0263c4d478b37bb8739d5c7f2",
            "87ab0c954d454a6fbee079c5a5ff08ab",
            "c444cdfb295a4253bf5f63ca3db9a840",
            "988c3594052d492cb26f0f90bd7dd6fd",
            "a9dcb1fadf6b4aeda5f8fb010d016f68",
            "1376724332f64314a699b5c1121bf624",
            "19e62dedc62b4f3b8409eb121e78aa23",
            "ba9a7a0ef47f4077844f6ceac41642a3",
            "6b69c72a715948a2a6c03fc0421954a8",
            "482a137ebf9b47ee9065b815bf5b55a5",
            "6add743f9b624995abf8dca77cfeb1f8",
            "9fa8a8794a6845e8a2a7f70a75ed0d1c",
            "69f2f72b098a4102a06ae2ef92a18c4e"
          ]
        }
      },
      "source": [
        "\n",
        "idx = 0\n",
        "# for each background image\n",
        "for bidx, bg_image in enumerate(tqdm('/content/gdrive/My Drive/road n car/bg/')):\n",
        "    # output zip file, open in append mode\n",
        "    out_zip = zipfile.ZipFile('/content/gdrive/My Drive/road n car/depth_fg_bg.zip', mode='a', compression=zipfile.ZIP_STORED)\n",
        "\n",
        "    # labels for the craeted images\n",
        "    label_info = open(f't_label.txt', 'w+')\n",
        "\n",
        "    idx = 4000 * bidx\n",
        "\n",
        "    print(f'Processing BG {bidx}')\n",
        "\n",
        "    for fidx, fg_image in enumerate(tqdm('/content/gdrive/My Drive/road n car/fg/')):\n",
        "        # do the add fg to bg 20 times\n",
        "        for i in range(100):\n",
        "            # do this twice, one with flip once without\n",
        "            for should_flip in [True, False]:\n",
        "                # open the bg and fg images\n",
        "                background = Image.open(f'/content/gdrive/My Drive/road n car/bg/{str(i)}.jpg')\n",
        "\n",
        "                foreground =Image.open(f'/content/gdrive/My Drive/road n car/fg/{str(i)}.png')\n",
        "                fg_mask = Image.open(f'/content/gdrive/My Drive/road n car/fg.mask/{str(i)}.jpg')\n",
        "                \n",
        "                # if the fg image should be flipped\n",
        "                if should_flip:\n",
        "                    foreground = foreground.transpose(PIL.Image.FLIP_LEFT_RIGHT)\n",
        "                    fg_mask = fg_mask.transpose(PIL.Image.FLIP_LEFT_RIGHT)\n",
        "                    \n",
        "                b_width, b_height = background.size\n",
        "                f_width, f_height = foreground.size\n",
        "                max_y = b_height - f_height\n",
        "                max_x = b_width - f_width\n",
        "                pos_x = np.random.randint(low=0, high=max_x, size=1)[0]\n",
        "                pos_y = np.random.randint(low=0, high=max_y, size=1)[0]\n",
        "                background.paste(foreground, (pos_x, pos_y), foreground)\n",
        "                \n",
        "                mask_bg = Image.new('L', background.size)\n",
        "\n",
        "                fg_mask = fg_mask.convert('L')\n",
        "                mask_bg.paste(fg_mask, (pos_x, pos_y), fg_mask)\n",
        "\n",
        "                label_info.write(f'fg_bg/bg_{bidx:03d}/fg_{fidx:03d}_bg_{bidx:03d}_{idx:06d}.jpg\\tfg_bg_mask/bg_{bidx:03d}/fg_{fidx:03d}_bg_{bidx:03d}_mask_{idx:06d}.jpg\\t{pos_x}\\t{pos_y}\\n')\n",
        "\n",
        "                # save the background and the mask as temp .jpg files\n",
        "                background.save('b_temp.jpg', optimize=True, quality=30)\n",
        "                mask_bg.save('m_temp.jpg', optimize=True, quality=30)\n",
        "\n",
        "                # save the files to .zip file\n",
        "                out_zip.write('b_temp.jpg', f'depth_dataset_cleaned/fg_bg/bg_{bidx:03d}/fg_{fidx:03d}_bg_{bidx:03d}_{idx:06d}.jpg')\n",
        "                out_zip.write('m_temp.jpg', f'depth_dataset_cleaned/fg_bg_mask/bg_{bidx:03d}/fg_{fidx:03d}_bg_{bidx:03d}_mask_{idx:06d}.jpg')\n",
        "                \n",
        "                idx = idx + 1\n",
        "\n",
        "    label_info.close()\n",
        "\n",
        "    # write the labels file to zip\n",
        "    out_zip.write('t_label.txt', f'depth_dataset_cleaned/labels/bg_{bidx:03d}_label_info.txt')\n",
        "\n",
        "    # important: close the zip, else it gets corrupted\n",
        "    out_zip.close()"
      ],
      "execution_count": 0,
      "outputs": [
        {
          "output_type": "display_data",
          "data": {
            "application/vnd.jupyter.widget-view+json": {
              "model_id": "66557e68f0f44568810aed7d9702318f",
              "version_minor": 0,
              "version_major": 2
            },
            "text/plain": [
              "HBox(children=(IntProgress(value=0, max=39), HTML(value='')))"
            ]
          },
          "metadata": {
            "tags": []
          }
        },
        {
          "output_type": "stream",
          "text": [
            "Processing BG 0\n"
          ],
          "name": "stdout"
        },
        {
          "output_type": "display_data",
          "data": {
            "application/vnd.jupyter.widget-view+json": {
              "model_id": "c6333ddd2bb7464bbf8366a59b58888e",
              "version_minor": 0,
              "version_major": 2
            },
            "text/plain": [
              "HBox(children=(IntProgress(value=0, max=39), HTML(value='')))"
            ]
          },
          "metadata": {
            "tags": []
          }
        },
        {
          "output_type": "stream",
          "text": [
            "\n",
            "Processing BG 1\n"
          ],
          "name": "stdout"
        },
        {
          "output_type": "display_data",
          "data": {
            "application/vnd.jupyter.widget-view+json": {
              "model_id": "d0adb5b5e8b747be9c64469c3555b5b1",
              "version_minor": 0,
              "version_major": 2
            },
            "text/plain": [
              "HBox(children=(IntProgress(value=0, max=39), HTML(value='')))"
            ]
          },
          "metadata": {
            "tags": []
          }
        },
        {
          "output_type": "stream",
          "text": [
            "\n",
            "Processing BG 2\n"
          ],
          "name": "stdout"
        },
        {
          "output_type": "display_data",
          "data": {
            "application/vnd.jupyter.widget-view+json": {
              "model_id": "074db80f4a364167bdedd498cb7fc554",
              "version_minor": 0,
              "version_major": 2
            },
            "text/plain": [
              "HBox(children=(IntProgress(value=0, max=39), HTML(value='')))"
            ]
          },
          "metadata": {
            "tags": []
          }
        },
        {
          "output_type": "stream",
          "text": [
            "\n",
            "Processing BG 3\n"
          ],
          "name": "stdout"
        },
        {
          "output_type": "display_data",
          "data": {
            "application/vnd.jupyter.widget-view+json": {
              "model_id": "4e09b402467041ef954f3f0e45da3230",
              "version_minor": 0,
              "version_major": 2
            },
            "text/plain": [
              "HBox(children=(IntProgress(value=0, max=39), HTML(value='')))"
            ]
          },
          "metadata": {
            "tags": []
          }
        },
        {
          "output_type": "stream",
          "text": [
            "\n",
            "Processing BG 4\n"
          ],
          "name": "stdout"
        },
        {
          "output_type": "display_data",
          "data": {
            "application/vnd.jupyter.widget-view+json": {
              "model_id": "481c95d14309496484846f9ef6cfc208",
              "version_minor": 0,
              "version_major": 2
            },
            "text/plain": [
              "HBox(children=(IntProgress(value=0, max=39), HTML(value='')))"
            ]
          },
          "metadata": {
            "tags": []
          }
        },
        {
          "output_type": "stream",
          "text": [
            "\n",
            "Processing BG 5\n"
          ],
          "name": "stdout"
        },
        {
          "output_type": "display_data",
          "data": {
            "application/vnd.jupyter.widget-view+json": {
              "model_id": "f18b435b775d4a63b361923f71985422",
              "version_minor": 0,
              "version_major": 2
            },
            "text/plain": [
              "HBox(children=(IntProgress(value=0, max=39), HTML(value='')))"
            ]
          },
          "metadata": {
            "tags": []
          }
        },
        {
          "output_type": "stream",
          "text": [
            "\n",
            "Processing BG 6\n"
          ],
          "name": "stdout"
        },
        {
          "output_type": "display_data",
          "data": {
            "application/vnd.jupyter.widget-view+json": {
              "model_id": "8cd8cc8e0b024d5c9c553e0dfdda5bf7",
              "version_minor": 0,
              "version_major": 2
            },
            "text/plain": [
              "HBox(children=(IntProgress(value=0, max=39), HTML(value='')))"
            ]
          },
          "metadata": {
            "tags": []
          }
        },
        {
          "output_type": "stream",
          "text": [
            "\n",
            "Processing BG 7\n"
          ],
          "name": "stdout"
        },
        {
          "output_type": "display_data",
          "data": {
            "application/vnd.jupyter.widget-view+json": {
              "model_id": "26fe59f758e342edaffacd49c6e21d0b",
              "version_minor": 0,
              "version_major": 2
            },
            "text/plain": [
              "HBox(children=(IntProgress(value=0, max=39), HTML(value='')))"
            ]
          },
          "metadata": {
            "tags": []
          }
        },
        {
          "output_type": "stream",
          "text": [
            "\n",
            "Processing BG 8\n"
          ],
          "name": "stdout"
        },
        {
          "output_type": "display_data",
          "data": {
            "application/vnd.jupyter.widget-view+json": {
              "model_id": "ec302c230ec04c78b9f6aefb0fee57d1",
              "version_minor": 0,
              "version_major": 2
            },
            "text/plain": [
              "HBox(children=(IntProgress(value=0, max=39), HTML(value='')))"
            ]
          },
          "metadata": {
            "tags": []
          }
        },
        {
          "output_type": "stream",
          "text": [
            "\n",
            "Processing BG 9\n"
          ],
          "name": "stdout"
        },
        {
          "output_type": "display_data",
          "data": {
            "application/vnd.jupyter.widget-view+json": {
              "model_id": "262304c132d24fa8b52ca356b5b2b6ce",
              "version_minor": 0,
              "version_major": 2
            },
            "text/plain": [
              "HBox(children=(IntProgress(value=0, max=39), HTML(value='')))"
            ]
          },
          "metadata": {
            "tags": []
          }
        },
        {
          "output_type": "stream",
          "text": [
            "\n",
            "Processing BG 10\n"
          ],
          "name": "stdout"
        },
        {
          "output_type": "display_data",
          "data": {
            "application/vnd.jupyter.widget-view+json": {
              "model_id": "9a9c37edc1284b5c9fd2ae769e6ead2e",
              "version_minor": 0,
              "version_major": 2
            },
            "text/plain": [
              "HBox(children=(IntProgress(value=0, max=39), HTML(value='')))"
            ]
          },
          "metadata": {
            "tags": []
          }
        },
        {
          "output_type": "stream",
          "text": [
            "\n",
            "Processing BG 11\n"
          ],
          "name": "stdout"
        },
        {
          "output_type": "display_data",
          "data": {
            "application/vnd.jupyter.widget-view+json": {
              "model_id": "759f697f8be94dffbdf73ba01b2ef7db",
              "version_minor": 0,
              "version_major": 2
            },
            "text/plain": [
              "HBox(children=(IntProgress(value=0, max=39), HTML(value='')))"
            ]
          },
          "metadata": {
            "tags": []
          }
        },
        {
          "output_type": "stream",
          "text": [
            "\n",
            "Processing BG 12\n"
          ],
          "name": "stdout"
        },
        {
          "output_type": "display_data",
          "data": {
            "application/vnd.jupyter.widget-view+json": {
              "model_id": "81baa631555a4cc3bc9de93d4dc39826",
              "version_minor": 0,
              "version_major": 2
            },
            "text/plain": [
              "HBox(children=(IntProgress(value=0, max=39), HTML(value='')))"
            ]
          },
          "metadata": {
            "tags": []
          }
        },
        {
          "output_type": "stream",
          "text": [
            "\n",
            "Processing BG 13\n"
          ],
          "name": "stdout"
        },
        {
          "output_type": "display_data",
          "data": {
            "application/vnd.jupyter.widget-view+json": {
              "model_id": "6c17acd59de8460690a71da9c442f667",
              "version_minor": 0,
              "version_major": 2
            },
            "text/plain": [
              "HBox(children=(IntProgress(value=0, max=39), HTML(value='')))"
            ]
          },
          "metadata": {
            "tags": []
          }
        },
        {
          "output_type": "stream",
          "text": [
            "\n",
            "Processing BG 14\n"
          ],
          "name": "stdout"
        },
        {
          "output_type": "display_data",
          "data": {
            "application/vnd.jupyter.widget-view+json": {
              "model_id": "0a3ea5a236614862a9192137f9ff09a3",
              "version_minor": 0,
              "version_major": 2
            },
            "text/plain": [
              "HBox(children=(IntProgress(value=0, max=39), HTML(value='')))"
            ]
          },
          "metadata": {
            "tags": []
          }
        },
        {
          "output_type": "stream",
          "text": [
            "\n",
            "Processing BG 15\n"
          ],
          "name": "stdout"
        },
        {
          "output_type": "display_data",
          "data": {
            "application/vnd.jupyter.widget-view+json": {
              "model_id": "68b336dfbdd541e09f9d6c4fae4ee62b",
              "version_minor": 0,
              "version_major": 2
            },
            "text/plain": [
              "HBox(children=(IntProgress(value=0, max=39), HTML(value='')))"
            ]
          },
          "metadata": {
            "tags": []
          }
        },
        {
          "output_type": "stream",
          "text": [
            "\n",
            "Processing BG 16\n"
          ],
          "name": "stdout"
        },
        {
          "output_type": "display_data",
          "data": {
            "application/vnd.jupyter.widget-view+json": {
              "model_id": "31547477f06946caa021bf5556d85fa5",
              "version_minor": 0,
              "version_major": 2
            },
            "text/plain": [
              "HBox(children=(IntProgress(value=0, max=39), HTML(value='')))"
            ]
          },
          "metadata": {
            "tags": []
          }
        },
        {
          "output_type": "stream",
          "text": [
            "\n",
            "Processing BG 17\n"
          ],
          "name": "stdout"
        },
        {
          "output_type": "display_data",
          "data": {
            "application/vnd.jupyter.widget-view+json": {
              "model_id": "42ab0ff5beee4c44b010639efdebdf35",
              "version_minor": 0,
              "version_major": 2
            },
            "text/plain": [
              "HBox(children=(IntProgress(value=0, max=39), HTML(value='')))"
            ]
          },
          "metadata": {
            "tags": []
          }
        },
        {
          "output_type": "stream",
          "text": [
            "\n",
            "Processing BG 18\n"
          ],
          "name": "stdout"
        },
        {
          "output_type": "display_data",
          "data": {
            "application/vnd.jupyter.widget-view+json": {
              "model_id": "3d2d805cd25742318223aa7bcf080243",
              "version_minor": 0,
              "version_major": 2
            },
            "text/plain": [
              "HBox(children=(IntProgress(value=0, max=39), HTML(value='')))"
            ]
          },
          "metadata": {
            "tags": []
          }
        },
        {
          "output_type": "stream",
          "text": [
            "\n",
            "Processing BG 19\n"
          ],
          "name": "stdout"
        },
        {
          "output_type": "display_data",
          "data": {
            "application/vnd.jupyter.widget-view+json": {
              "model_id": "84897162e1df40de96a4aaa35869184c",
              "version_minor": 0,
              "version_major": 2
            },
            "text/plain": [
              "HBox(children=(IntProgress(value=0, max=39), HTML(value='')))"
            ]
          },
          "metadata": {
            "tags": []
          }
        },
        {
          "output_type": "stream",
          "text": [
            "\n",
            "Processing BG 20\n"
          ],
          "name": "stdout"
        },
        {
          "output_type": "display_data",
          "data": {
            "application/vnd.jupyter.widget-view+json": {
              "model_id": "73b659b615584b1fb4a4351aefcf3fea",
              "version_minor": 0,
              "version_major": 2
            },
            "text/plain": [
              "HBox(children=(IntProgress(value=0, max=39), HTML(value='')))"
            ]
          },
          "metadata": {
            "tags": []
          }
        },
        {
          "output_type": "stream",
          "text": [
            "\n",
            "Processing BG 21\n"
          ],
          "name": "stdout"
        },
        {
          "output_type": "display_data",
          "data": {
            "application/vnd.jupyter.widget-view+json": {
              "model_id": "a55d13c8d7ff4a44951328bd8c358354",
              "version_minor": 0,
              "version_major": 2
            },
            "text/plain": [
              "HBox(children=(IntProgress(value=0, max=39), HTML(value='')))"
            ]
          },
          "metadata": {
            "tags": []
          }
        },
        {
          "output_type": "stream",
          "text": [
            "\n",
            "Processing BG 22\n"
          ],
          "name": "stdout"
        },
        {
          "output_type": "display_data",
          "data": {
            "application/vnd.jupyter.widget-view+json": {
              "model_id": "d7cb723baff542079c04fd7f9a481186",
              "version_minor": 0,
              "version_major": 2
            },
            "text/plain": [
              "HBox(children=(IntProgress(value=0, max=39), HTML(value='')))"
            ]
          },
          "metadata": {
            "tags": []
          }
        },
        {
          "output_type": "stream",
          "text": [
            "\n",
            "Processing BG 23\n"
          ],
          "name": "stdout"
        },
        {
          "output_type": "display_data",
          "data": {
            "application/vnd.jupyter.widget-view+json": {
              "model_id": "2185a6be50d54a199ecda16df4646667",
              "version_minor": 0,
              "version_major": 2
            },
            "text/plain": [
              "HBox(children=(IntProgress(value=0, max=39), HTML(value='')))"
            ]
          },
          "metadata": {
            "tags": []
          }
        },
        {
          "output_type": "stream",
          "text": [
            "\n",
            "Processing BG 24\n"
          ],
          "name": "stdout"
        },
        {
          "output_type": "display_data",
          "data": {
            "application/vnd.jupyter.widget-view+json": {
              "model_id": "5bdbca0ae1d148e0843704acf2d99696",
              "version_minor": 0,
              "version_major": 2
            },
            "text/plain": [
              "HBox(children=(IntProgress(value=0, max=39), HTML(value='')))"
            ]
          },
          "metadata": {
            "tags": []
          }
        },
        {
          "output_type": "stream",
          "text": [
            "\n",
            "Processing BG 25\n"
          ],
          "name": "stdout"
        },
        {
          "output_type": "display_data",
          "data": {
            "application/vnd.jupyter.widget-view+json": {
              "model_id": "a2f88681dcfa4faf8ea34ad5e9be84be",
              "version_minor": 0,
              "version_major": 2
            },
            "text/plain": [
              "HBox(children=(IntProgress(value=0, max=39), HTML(value='')))"
            ]
          },
          "metadata": {
            "tags": []
          }
        },
        {
          "output_type": "stream",
          "text": [
            "\n",
            "Processing BG 26\n"
          ],
          "name": "stdout"
        },
        {
          "output_type": "display_data",
          "data": {
            "application/vnd.jupyter.widget-view+json": {
              "model_id": "3b449fd960e24b35805f27e1c0827478",
              "version_minor": 0,
              "version_major": 2
            },
            "text/plain": [
              "HBox(children=(IntProgress(value=0, max=39), HTML(value='')))"
            ]
          },
          "metadata": {
            "tags": []
          }
        },
        {
          "output_type": "stream",
          "text": [
            "\n",
            "Processing BG 27\n"
          ],
          "name": "stdout"
        },
        {
          "output_type": "display_data",
          "data": {
            "application/vnd.jupyter.widget-view+json": {
              "model_id": "14c05d38abe641caaaa48c6d119db628",
              "version_minor": 0,
              "version_major": 2
            },
            "text/plain": [
              "HBox(children=(IntProgress(value=0, max=39), HTML(value='')))"
            ]
          },
          "metadata": {
            "tags": []
          }
        },
        {
          "output_type": "stream",
          "text": [
            "\n",
            "Processing BG 28\n"
          ],
          "name": "stdout"
        },
        {
          "output_type": "display_data",
          "data": {
            "application/vnd.jupyter.widget-view+json": {
              "model_id": "1a0a35dd8e5e425eb812309c6720659d",
              "version_minor": 0,
              "version_major": 2
            },
            "text/plain": [
              "HBox(children=(IntProgress(value=0, max=39), HTML(value='')))"
            ]
          },
          "metadata": {
            "tags": []
          }
        },
        {
          "output_type": "stream",
          "text": [
            "\n",
            "Processing BG 29\n"
          ],
          "name": "stdout"
        },
        {
          "output_type": "display_data",
          "data": {
            "application/vnd.jupyter.widget-view+json": {
              "model_id": "a8a38e4b9d4f4664a19d176771a5aff3",
              "version_minor": 0,
              "version_major": 2
            },
            "text/plain": [
              "HBox(children=(IntProgress(value=0, max=39), HTML(value='')))"
            ]
          },
          "metadata": {
            "tags": []
          }
        },
        {
          "output_type": "stream",
          "text": [
            "\n",
            "Processing BG 30\n"
          ],
          "name": "stdout"
        },
        {
          "output_type": "display_data",
          "data": {
            "application/vnd.jupyter.widget-view+json": {
              "model_id": "04015875d2b14ce8a92df7c62d91ff8e",
              "version_minor": 0,
              "version_major": 2
            },
            "text/plain": [
              "HBox(children=(IntProgress(value=0, max=39), HTML(value='')))"
            ]
          },
          "metadata": {
            "tags": []
          }
        },
        {
          "output_type": "stream",
          "text": [
            "\n",
            "Processing BG 31\n"
          ],
          "name": "stdout"
        },
        {
          "output_type": "display_data",
          "data": {
            "application/vnd.jupyter.widget-view+json": {
              "model_id": "a2f165d0c9044d79b19720f9d84ffd9d",
              "version_minor": 0,
              "version_major": 2
            },
            "text/plain": [
              "HBox(children=(IntProgress(value=0, max=39), HTML(value='')))"
            ]
          },
          "metadata": {
            "tags": []
          }
        },
        {
          "output_type": "stream",
          "text": [
            "\n",
            "Processing BG 32\n"
          ],
          "name": "stdout"
        },
        {
          "output_type": "display_data",
          "data": {
            "application/vnd.jupyter.widget-view+json": {
              "model_id": "a9201b1a12734d8dbe3152c1db19cfa7",
              "version_minor": 0,
              "version_major": 2
            },
            "text/plain": [
              "HBox(children=(IntProgress(value=0, max=39), HTML(value='')))"
            ]
          },
          "metadata": {
            "tags": []
          }
        },
        {
          "output_type": "stream",
          "text": [
            "\n",
            "Processing BG 33\n"
          ],
          "name": "stdout"
        },
        {
          "output_type": "display_data",
          "data": {
            "application/vnd.jupyter.widget-view+json": {
              "model_id": "881456c39f5a427b954f9484b9b4630d",
              "version_minor": 0,
              "version_major": 2
            },
            "text/plain": [
              "HBox(children=(IntProgress(value=0, max=39), HTML(value='')))"
            ]
          },
          "metadata": {
            "tags": []
          }
        },
        {
          "output_type": "stream",
          "text": [
            "\n",
            "Processing BG 34\n"
          ],
          "name": "stdout"
        },
        {
          "output_type": "display_data",
          "data": {
            "application/vnd.jupyter.widget-view+json": {
              "model_id": "afc85ad57fa9406999b619575a77a833",
              "version_minor": 0,
              "version_major": 2
            },
            "text/plain": [
              "HBox(children=(IntProgress(value=0, max=39), HTML(value='')))"
            ]
          },
          "metadata": {
            "tags": []
          }
        },
        {
          "output_type": "stream",
          "text": [
            "\n",
            "Processing BG 35\n"
          ],
          "name": "stdout"
        },
        {
          "output_type": "display_data",
          "data": {
            "application/vnd.jupyter.widget-view+json": {
              "model_id": "cdc3bdeec2e74726881f0f80a181cf1c",
              "version_minor": 0,
              "version_major": 2
            },
            "text/plain": [
              "HBox(children=(IntProgress(value=0, max=39), HTML(value='')))"
            ]
          },
          "metadata": {
            "tags": []
          }
        },
        {
          "output_type": "stream",
          "text": [
            "\n",
            "Processing BG 36\n"
          ],
          "name": "stdout"
        },
        {
          "output_type": "display_data",
          "data": {
            "application/vnd.jupyter.widget-view+json": {
              "model_id": "d4863a93d3c24e7389ad4700de276c96",
              "version_minor": 0,
              "version_major": 2
            },
            "text/plain": [
              "HBox(children=(IntProgress(value=0, max=39), HTML(value='')))"
            ]
          },
          "metadata": {
            "tags": []
          }
        },
        {
          "output_type": "stream",
          "text": [
            "\n",
            "Processing BG 37\n"
          ],
          "name": "stdout"
        },
        {
          "output_type": "display_data",
          "data": {
            "application/vnd.jupyter.widget-view+json": {
              "model_id": "1acbe1c275f34cc09c15ced67d9bd216",
              "version_minor": 0,
              "version_major": 2
            },
            "text/plain": [
              "HBox(children=(IntProgress(value=0, max=39), HTML(value='')))"
            ]
          },
          "metadata": {
            "tags": []
          }
        },
        {
          "output_type": "stream",
          "text": [
            "\n",
            "Processing BG 38\n"
          ],
          "name": "stdout"
        },
        {
          "output_type": "display_data",
          "data": {
            "application/vnd.jupyter.widget-view+json": {
              "model_id": "1376724332f64314a699b5c1121bf624",
              "version_minor": 0,
              "version_major": 2
            },
            "text/plain": [
              "HBox(children=(IntProgress(value=0, max=39), HTML(value='')))"
            ]
          },
          "metadata": {
            "tags": []
          }
        },
        {
          "output_type": "stream",
          "text": [
            "\n",
            "\n"
          ],
          "name": "stdout"
        }
      ]
    }
  ]
}